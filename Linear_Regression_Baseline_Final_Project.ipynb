{
 "cells": [
  {
   "cell_type": "markdown",
   "metadata": {},
   "source": [
    "Our Baseline Implementation"
   ]
  },
  {
   "cell_type": "code",
   "execution_count": null,
   "metadata": {},
   "outputs": [],
   "source": [
    "import pandas as pd\n",
    "import numpy as np\n",
    "import scipy.stats as stats\n",
    "import matplotlib.pyplot as plt\n",
    "import sklearn\n",
    "from sklearn.linear_model import LinearRegression\n",
    "from sklearn.model_selection import train_test_split\n",
    "from sklearn.preprocessing import StandardScaler"
   ]
  },
  {
   "cell_type": "code",
   "execution_count": 12,
   "metadata": {},
   "outputs": [
    {
     "name": "stdout",
     "output_type": "stream",
     "text": [
      "('Fit a model X_train, and calculate MSE with X_test, Y_test: ', 1.5538864118803712)\n",
      "('Accuracy: ', 0.33008921330089214)\n"
     ]
    },
    {
     "name": "stderr",
     "output_type": "stream",
     "text": [
      "/anaconda2/lib/python2.7/site-packages/ipykernel_launcher.py:8: SettingWithCopyWarning: \n",
      "A value is trying to be set on a copy of a slice from a DataFrame.\n",
      "Try using .loc[row_indexer,col_indexer] = value instead\n",
      "\n",
      "See the caveats in the documentation: http://pandas.pydata.org/pandas-docs/stable/indexing.html#indexing-view-versus-copy\n",
      "  \n"
     ]
    }
   ],
   "source": [
    "#Import data\n",
    "data = pd.read_csv('bucketed.csv')\n",
    "df = data[['PM2.5 Weighted Mean 24-hr', 'CO 2nd Max 8-hr', 'SO2 2nd Max 24-hr', 'PM10 Mean 24-hr']]\n",
    "\n",
    "#Normalize data\n",
    "scaler = StandardScaler() \n",
    "scaler.fit(data)\n",
    "df['Income_Bracket'] = data['Income_Bracket']\n",
    "data = df\n",
    "X = data.drop('Income_Bracket', axis = 1)\n",
    "\n",
    "#Find coefficients - not very important\n",
    "lm = LinearRegression()\n",
    "lm.fit(X, data.Income_Bracket)\n",
    "coeff = pd.DataFrame(zip(X.columns, lm.coef_), columns = {'features', 'estimatedCoefficients'})\n",
    "\n",
    "#Split training and test data\n",
    "X_train, X_test, Y_train, Y_test = train_test_split(\n",
    "    X, data.Income_Bracket, test_size = 0.3, random_state = 5)\n",
    "\n",
    "#Set up Linear Regression model and Train it\n",
    "lm = LinearRegression()\n",
    "lm.fit(X_train, Y_train)\n",
    "pred_train = lm.predict(X_train)\n",
    "pred_test = lm.predict(X_test)\n",
    "\n",
    "#Compute MSE\n",
    "Y_train = Y_train.values.astype(float)\n",
    "Y_test = Y_test.values.astype(float)\n",
    "print('Fit a model X_train, and calculate MSE with X_test, Y_test: ', np.mean((Y_test - lm.predict(X_test)) ** 2))\n",
    "\n",
    "#Compute Accuracy\n",
    "result = lm.predict(X_test)\n",
    "result = [int(round(i)) for i in result]\n",
    "counter = 0\n",
    "for i in range(len(Y_test)):\n",
    "    if float(Y_test[i]) == result[i]:\n",
    "        counter+=1\n",
    "\n",
    "print('Accuracy: ',float(counter)/len(Y_test))\n",
    "   "
   ]
  },
  {
   "cell_type": "code",
   "execution_count": null,
   "metadata": {},
   "outputs": [],
   "source": []
  }
 ],
 "metadata": {
  "kernelspec": {
   "display_name": "Python 2",
   "language": "python",
   "name": "python2"
  },
  "language_info": {
   "codemirror_mode": {
    "name": "ipython",
    "version": 2
   },
   "file_extension": ".py",
   "mimetype": "text/x-python",
   "name": "python",
   "nbconvert_exporter": "python",
   "pygments_lexer": "ipython2",
   "version": "2.7.16"
  }
 },
 "nbformat": 4,
 "nbformat_minor": 2
}
