{
 "cells": [
  {
   "cell_type": "code",
   "execution_count": 15,
   "metadata": {},
   "outputs": [
    {
     "data": {
      "text/plain": [
       "MultinomialNB(alpha=1.0, class_prior=None, fit_prior=True)"
      ]
     },
     "execution_count": 15,
     "metadata": {},
     "output_type": "execute_result"
    }
   ],
   "source": [
    "import numpy as np\n",
    "from sklearn.naive_bayes import MultinomialNB\n",
    "from sklearn.preprocessing import StandardScaler \n",
    "import pandas as pd\n",
    "\n",
    "# Architecture\n",
    "num_features = 4\n",
    "num_classes = 1\n",
    "\n",
    "df = pd.read_csv('bucketed.csv')\n",
    "data = df[['PM2.5 Weighted Mean 24-hr', 'CO 2nd Max 8-hr', 'SO2 2nd Max 24-hr', 'PM10 Mean 24-hr', 'Income_Bracket']] #select features\n",
    "scaler = StandardScaler() \n",
    "scaler.fit(data)\n",
    "\n",
    "#prepare training and test data\n",
    "msk = np.random.rand(len(df)) < 0.7\n",
    "train = data[msk]\n",
    "test = data[~msk]\n",
    "\n",
    "xtrain = np.array(train.iloc[:,0:num_features], dtype=np.float32)\n",
    "ytrain = np.array(train.iloc[:, num_features:(num_features + num_classes + 1)], dtype=np.float32)\n",
    "xtest = np.array(test.iloc[:,0:num_features], dtype=np.float32)\n",
    "ytest = np.array(test.iloc[:, num_features:(num_features + num_classes + 1)], dtype=np.float32)\n",
    "\n",
    "#Model\n",
    "clf = MultinomialNB()\n",
    "clf.fit(xtrain, ytrain)\n",
    "MultinomialNB(alpha=1.0, class_prior=None, fit_prior=True)"
   ]
  },
  {
   "cell_type": "code",
   "execution_count": 16,
   "metadata": {},
   "outputs": [
    {
     "name": "stdout",
     "output_type": "stream",
     "text": [
      "0.355904211396\n"
     ]
    }
   ],
   "source": [
    "#Validation\n",
    "prediction = clf.predict(xtest)\n",
    "correct = 0\n",
    "for i in range(len(prediction)):\n",
    "    if prediction[i] == ytest[i]:\n",
    "        correct+=1\n",
    "print(float(correct)/len(prediction))"
   ]
  },
  {
   "cell_type": "code",
   "execution_count": null,
   "metadata": {},
   "outputs": [],
   "source": []
  }
 ],
 "metadata": {
  "kernelspec": {
   "display_name": "Python 2",
   "language": "python",
   "name": "python2"
  },
  "language_info": {
   "codemirror_mode": {
    "name": "ipython",
    "version": 2
   },
   "file_extension": ".py",
   "mimetype": "text/x-python",
   "name": "python",
   "nbconvert_exporter": "python",
   "pygments_lexer": "ipython2",
   "version": "2.7.16"
  }
 },
 "nbformat": 4,
 "nbformat_minor": 2
}
